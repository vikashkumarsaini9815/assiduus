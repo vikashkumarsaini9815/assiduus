{
 "cells": [
  {
   "cell_type": "code",
   "execution_count": 1,
   "id": "58377ff3",
   "metadata": {},
   "outputs": [],
   "source": [
    "import os, sys\n",
    "os.environ.setdefault('DJANGO_SETTINGS_MODULE', 'ass_project.settings')\n",
    "os.environ[\"DJANGO_ALLOW_ASYNC_UNSAFE\"] = \"true\"\n",
    "import django\n",
    "django.setup()"
   ]
  },
  {
   "cell_type": "code",
   "execution_count": null,
   "id": "8a8ad5c4",
   "metadata": {},
   "outputs": [],
   "source": []
  },
  {
   "cell_type": "code",
   "execution_count": 2,
   "id": "17e70805",
   "metadata": {},
   "outputs": [],
   "source": [
    "from ass_app.models import *\n",
    "from rest_framework.views import APIView\n",
    "import pprint as pp\n",
    "from datetime import datetime, timezone\n",
    "#import json"
   ]
  },
  {
   "cell_type": "code",
   "execution_count": 3,
   "id": "f2a32301",
   "metadata": {},
   "outputs": [],
   "source": [
    "username = \"Rahul\"\n",
    "email = \"jk123@gmail.com\"\n",
    "message =\"Hi i am Rhul Kumar \""
   ]
  },
  {
   "cell_type": "code",
   "execution_count": 9,
   "id": "eedce985",
   "metadata": {},
   "outputs": [],
   "source": [
    "request={\"username\":\"Rahul\",\"email\":\"jk123@gmail.com\",\"message\":\"Hi i am Rhul Kumar \"}"
   ]
  },
  {
   "cell_type": "code",
   "execution_count": 11,
   "id": "91b34799",
   "metadata": {},
   "outputs": [
    {
     "name": "stdout",
     "output_type": "stream",
     "text": [
      "<QuerySet []>\n"
     ]
    }
   ],
   "source": [
    "U = User.objects.filter(email = email)\n",
    "print(U)\n"
   ]
  },
  {
   "cell_type": "code",
   "execution_count": 6,
   "id": "92a547e1",
   "metadata": {},
   "outputs": [
    {
     "ename": "ValueError",
     "evalue": "The QuerySet value for an exact lookup must be limited to one result using slicing.",
     "output_type": "error",
     "traceback": [
      "\u001b[1;31m---------------------------------------------------------------------------\u001b[0m",
      "\u001b[1;31mValueError\u001b[0m                                Traceback (most recent call last)",
      "Cell \u001b[1;32mIn [6], line 1\u001b[0m\n\u001b[1;32m----> 1\u001b[0m m \u001b[38;5;241m=\u001b[39m \u001b[43mMessage\u001b[49m\u001b[38;5;241;43m.\u001b[39;49m\u001b[43mobjects\u001b[49m\u001b[38;5;241;43m.\u001b[39;49m\u001b[43mfilter\u001b[49m\u001b[43m(\u001b[49m\u001b[43muser\u001b[49m\u001b[43m \u001b[49m\u001b[38;5;241;43m=\u001b[39;49m\u001b[43m \u001b[49m\u001b[43mU\u001b[49m\u001b[43m)\u001b[49m\n\u001b[0;32m      2\u001b[0m length \u001b[38;5;241m=\u001b[39m \u001b[38;5;28mlen\u001b[39m(m)\n\u001b[0;32m      3\u001b[0m cal \u001b[38;5;241m=\u001b[39m length \u001b[38;5;241m-\u001b[39m \u001b[38;5;241m5\u001b[39m\n",
      "File \u001b[1;32mD:\\interview_project\\assiduus_project\\assenv\\lib\\site-packages\\django\\db\\models\\manager.py:85\u001b[0m, in \u001b[0;36mBaseManager._get_queryset_methods.<locals>.create_method.<locals>.manager_method\u001b[1;34m(self, *args, **kwargs)\u001b[0m\n\u001b[0;32m     84\u001b[0m \u001b[38;5;28;01mdef\u001b[39;00m \u001b[38;5;21mmanager_method\u001b[39m(\u001b[38;5;28mself\u001b[39m, \u001b[38;5;241m*\u001b[39margs, \u001b[38;5;241m*\u001b[39m\u001b[38;5;241m*\u001b[39mkwargs):\n\u001b[1;32m---> 85\u001b[0m     \u001b[38;5;28;01mreturn\u001b[39;00m \u001b[38;5;28mgetattr\u001b[39m(\u001b[38;5;28mself\u001b[39m\u001b[38;5;241m.\u001b[39mget_queryset(), name)(\u001b[38;5;241m*\u001b[39margs, \u001b[38;5;241m*\u001b[39m\u001b[38;5;241m*\u001b[39mkwargs)\n",
      "File \u001b[1;32mD:\\interview_project\\assiduus_project\\assenv\\lib\\site-packages\\django\\db\\models\\query.py:1420\u001b[0m, in \u001b[0;36mQuerySet.filter\u001b[1;34m(self, *args, **kwargs)\u001b[0m\n\u001b[0;32m   1415\u001b[0m \u001b[38;5;124;03m\"\"\"\u001b[39;00m\n\u001b[0;32m   1416\u001b[0m \u001b[38;5;124;03mReturn a new QuerySet instance with the args ANDed to the existing\u001b[39;00m\n\u001b[0;32m   1417\u001b[0m \u001b[38;5;124;03mset.\u001b[39;00m\n\u001b[0;32m   1418\u001b[0m \u001b[38;5;124;03m\"\"\"\u001b[39;00m\n\u001b[0;32m   1419\u001b[0m \u001b[38;5;28mself\u001b[39m\u001b[38;5;241m.\u001b[39m_not_support_combined_queries(\u001b[38;5;124m\"\u001b[39m\u001b[38;5;124mfilter\u001b[39m\u001b[38;5;124m\"\u001b[39m)\n\u001b[1;32m-> 1420\u001b[0m \u001b[38;5;28;01mreturn\u001b[39;00m \u001b[38;5;28;43mself\u001b[39;49m\u001b[38;5;241;43m.\u001b[39;49m\u001b[43m_filter_or_exclude\u001b[49m\u001b[43m(\u001b[49m\u001b[38;5;28;43;01mFalse\u001b[39;49;00m\u001b[43m,\u001b[49m\u001b[43m \u001b[49m\u001b[43margs\u001b[49m\u001b[43m,\u001b[49m\u001b[43m \u001b[49m\u001b[43mkwargs\u001b[49m\u001b[43m)\u001b[49m\n",
      "File \u001b[1;32mD:\\interview_project\\assiduus_project\\assenv\\lib\\site-packages\\django\\db\\models\\query.py:1438\u001b[0m, in \u001b[0;36mQuerySet._filter_or_exclude\u001b[1;34m(self, negate, args, kwargs)\u001b[0m\n\u001b[0;32m   1436\u001b[0m     clone\u001b[38;5;241m.\u001b[39m_deferred_filter \u001b[38;5;241m=\u001b[39m negate, args, kwargs\n\u001b[0;32m   1437\u001b[0m \u001b[38;5;28;01melse\u001b[39;00m:\n\u001b[1;32m-> 1438\u001b[0m     \u001b[43mclone\u001b[49m\u001b[38;5;241;43m.\u001b[39;49m\u001b[43m_filter_or_exclude_inplace\u001b[49m\u001b[43m(\u001b[49m\u001b[43mnegate\u001b[49m\u001b[43m,\u001b[49m\u001b[43m \u001b[49m\u001b[43margs\u001b[49m\u001b[43m,\u001b[49m\u001b[43m \u001b[49m\u001b[43mkwargs\u001b[49m\u001b[43m)\u001b[49m\n\u001b[0;32m   1439\u001b[0m \u001b[38;5;28;01mreturn\u001b[39;00m clone\n",
      "File \u001b[1;32mD:\\interview_project\\assiduus_project\\assenv\\lib\\site-packages\\django\\db\\models\\query.py:1445\u001b[0m, in \u001b[0;36mQuerySet._filter_or_exclude_inplace\u001b[1;34m(self, negate, args, kwargs)\u001b[0m\n\u001b[0;32m   1443\u001b[0m     \u001b[38;5;28mself\u001b[39m\u001b[38;5;241m.\u001b[39m_query\u001b[38;5;241m.\u001b[39madd_q(\u001b[38;5;241m~\u001b[39mQ(\u001b[38;5;241m*\u001b[39margs, \u001b[38;5;241m*\u001b[39m\u001b[38;5;241m*\u001b[39mkwargs))\n\u001b[0;32m   1444\u001b[0m \u001b[38;5;28;01melse\u001b[39;00m:\n\u001b[1;32m-> 1445\u001b[0m     \u001b[38;5;28;43mself\u001b[39;49m\u001b[38;5;241;43m.\u001b[39;49m\u001b[43m_query\u001b[49m\u001b[38;5;241;43m.\u001b[39;49m\u001b[43madd_q\u001b[49m\u001b[43m(\u001b[49m\u001b[43mQ\u001b[49m\u001b[43m(\u001b[49m\u001b[38;5;241;43m*\u001b[39;49m\u001b[43margs\u001b[49m\u001b[43m,\u001b[49m\u001b[43m \u001b[49m\u001b[38;5;241;43m*\u001b[39;49m\u001b[38;5;241;43m*\u001b[39;49m\u001b[43mkwargs\u001b[49m\u001b[43m)\u001b[49m\u001b[43m)\u001b[49m\n",
      "File \u001b[1;32mD:\\interview_project\\assiduus_project\\assenv\\lib\\site-packages\\django\\db\\models\\sql\\query.py:1532\u001b[0m, in \u001b[0;36mQuery.add_q\u001b[1;34m(self, q_object)\u001b[0m\n\u001b[0;32m   1523\u001b[0m \u001b[38;5;66;03m# For join promotion this case is doing an AND for the added q_object\u001b[39;00m\n\u001b[0;32m   1524\u001b[0m \u001b[38;5;66;03m# and existing conditions. So, any existing inner join forces the join\u001b[39;00m\n\u001b[0;32m   1525\u001b[0m \u001b[38;5;66;03m# type to remain inner. Existing outer joins can however be demoted.\u001b[39;00m\n\u001b[0;32m   1526\u001b[0m \u001b[38;5;66;03m# (Consider case where rel_a is LOUTER and rel_a__col=1 is added - if\u001b[39;00m\n\u001b[0;32m   1527\u001b[0m \u001b[38;5;66;03m# rel_a doesn't produce any rows, then the whole condition must fail.\u001b[39;00m\n\u001b[0;32m   1528\u001b[0m \u001b[38;5;66;03m# So, demotion is OK.\u001b[39;00m\n\u001b[0;32m   1529\u001b[0m existing_inner \u001b[38;5;241m=\u001b[39m {\n\u001b[0;32m   1530\u001b[0m     a \u001b[38;5;28;01mfor\u001b[39;00m a \u001b[38;5;129;01min\u001b[39;00m \u001b[38;5;28mself\u001b[39m\u001b[38;5;241m.\u001b[39malias_map \u001b[38;5;28;01mif\u001b[39;00m \u001b[38;5;28mself\u001b[39m\u001b[38;5;241m.\u001b[39malias_map[a]\u001b[38;5;241m.\u001b[39mjoin_type \u001b[38;5;241m==\u001b[39m INNER\n\u001b[0;32m   1531\u001b[0m }\n\u001b[1;32m-> 1532\u001b[0m clause, _ \u001b[38;5;241m=\u001b[39m \u001b[38;5;28;43mself\u001b[39;49m\u001b[38;5;241;43m.\u001b[39;49m\u001b[43m_add_q\u001b[49m\u001b[43m(\u001b[49m\u001b[43mq_object\u001b[49m\u001b[43m,\u001b[49m\u001b[43m \u001b[49m\u001b[38;5;28;43mself\u001b[39;49m\u001b[38;5;241;43m.\u001b[39;49m\u001b[43mused_aliases\u001b[49m\u001b[43m)\u001b[49m\n\u001b[0;32m   1533\u001b[0m \u001b[38;5;28;01mif\u001b[39;00m clause:\n\u001b[0;32m   1534\u001b[0m     \u001b[38;5;28mself\u001b[39m\u001b[38;5;241m.\u001b[39mwhere\u001b[38;5;241m.\u001b[39madd(clause, AND)\n",
      "File \u001b[1;32mD:\\interview_project\\assiduus_project\\assenv\\lib\\site-packages\\django\\db\\models\\sql\\query.py:1562\u001b[0m, in \u001b[0;36mQuery._add_q\u001b[1;34m(self, q_object, used_aliases, branch_negated, current_negated, allow_joins, split_subq, check_filterable)\u001b[0m\n\u001b[0;32m   1558\u001b[0m joinpromoter \u001b[38;5;241m=\u001b[39m JoinPromoter(\n\u001b[0;32m   1559\u001b[0m     q_object\u001b[38;5;241m.\u001b[39mconnector, \u001b[38;5;28mlen\u001b[39m(q_object\u001b[38;5;241m.\u001b[39mchildren), current_negated\n\u001b[0;32m   1560\u001b[0m )\n\u001b[0;32m   1561\u001b[0m \u001b[38;5;28;01mfor\u001b[39;00m child \u001b[38;5;129;01min\u001b[39;00m q_object\u001b[38;5;241m.\u001b[39mchildren:\n\u001b[1;32m-> 1562\u001b[0m     child_clause, needed_inner \u001b[38;5;241m=\u001b[39m \u001b[38;5;28;43mself\u001b[39;49m\u001b[38;5;241;43m.\u001b[39;49m\u001b[43mbuild_filter\u001b[49m\u001b[43m(\u001b[49m\n\u001b[0;32m   1563\u001b[0m \u001b[43m        \u001b[49m\u001b[43mchild\u001b[49m\u001b[43m,\u001b[49m\n\u001b[0;32m   1564\u001b[0m \u001b[43m        \u001b[49m\u001b[43mcan_reuse\u001b[49m\u001b[38;5;241;43m=\u001b[39;49m\u001b[43mused_aliases\u001b[49m\u001b[43m,\u001b[49m\n\u001b[0;32m   1565\u001b[0m \u001b[43m        \u001b[49m\u001b[43mbranch_negated\u001b[49m\u001b[38;5;241;43m=\u001b[39;49m\u001b[43mbranch_negated\u001b[49m\u001b[43m,\u001b[49m\n\u001b[0;32m   1566\u001b[0m \u001b[43m        \u001b[49m\u001b[43mcurrent_negated\u001b[49m\u001b[38;5;241;43m=\u001b[39;49m\u001b[43mcurrent_negated\u001b[49m\u001b[43m,\u001b[49m\n\u001b[0;32m   1567\u001b[0m \u001b[43m        \u001b[49m\u001b[43mallow_joins\u001b[49m\u001b[38;5;241;43m=\u001b[39;49m\u001b[43mallow_joins\u001b[49m\u001b[43m,\u001b[49m\n\u001b[0;32m   1568\u001b[0m \u001b[43m        \u001b[49m\u001b[43msplit_subq\u001b[49m\u001b[38;5;241;43m=\u001b[39;49m\u001b[43msplit_subq\u001b[49m\u001b[43m,\u001b[49m\n\u001b[0;32m   1569\u001b[0m \u001b[43m        \u001b[49m\u001b[43mcheck_filterable\u001b[49m\u001b[38;5;241;43m=\u001b[39;49m\u001b[43mcheck_filterable\u001b[49m\u001b[43m,\u001b[49m\n\u001b[0;32m   1570\u001b[0m \u001b[43m    \u001b[49m\u001b[43m)\u001b[49m\n\u001b[0;32m   1571\u001b[0m     joinpromoter\u001b[38;5;241m.\u001b[39madd_votes(needed_inner)\n\u001b[0;32m   1572\u001b[0m     \u001b[38;5;28;01mif\u001b[39;00m child_clause:\n",
      "File \u001b[1;32mD:\\interview_project\\assiduus_project\\assenv\\lib\\site-packages\\django\\db\\models\\sql\\query.py:1478\u001b[0m, in \u001b[0;36mQuery.build_filter\u001b[1;34m(self, filter_expr, branch_negated, current_negated, can_reuse, allow_joins, split_subq, reuse_with_filtered_relation, check_filterable)\u001b[0m\n\u001b[0;32m   1475\u001b[0m \u001b[38;5;28;01melse\u001b[39;00m:\n\u001b[0;32m   1476\u001b[0m     col \u001b[38;5;241m=\u001b[39m \u001b[38;5;28mself\u001b[39m\u001b[38;5;241m.\u001b[39m_get_col(targets[\u001b[38;5;241m0\u001b[39m], join_info\u001b[38;5;241m.\u001b[39mfinal_field, alias)\n\u001b[1;32m-> 1478\u001b[0m condition \u001b[38;5;241m=\u001b[39m \u001b[38;5;28;43mself\u001b[39;49m\u001b[38;5;241;43m.\u001b[39;49m\u001b[43mbuild_lookup\u001b[49m\u001b[43m(\u001b[49m\u001b[43mlookups\u001b[49m\u001b[43m,\u001b[49m\u001b[43m \u001b[49m\u001b[43mcol\u001b[49m\u001b[43m,\u001b[49m\u001b[43m \u001b[49m\u001b[43mvalue\u001b[49m\u001b[43m)\u001b[49m\n\u001b[0;32m   1479\u001b[0m lookup_type \u001b[38;5;241m=\u001b[39m condition\u001b[38;5;241m.\u001b[39mlookup_name\n\u001b[0;32m   1480\u001b[0m clause \u001b[38;5;241m=\u001b[39m WhereNode([condition], connector\u001b[38;5;241m=\u001b[39mAND)\n",
      "File \u001b[1;32mD:\\interview_project\\assiduus_project\\assenv\\lib\\site-packages\\django\\db\\models\\sql\\query.py:1303\u001b[0m, in \u001b[0;36mQuery.build_lookup\u001b[1;34m(self, lookups, lhs, rhs)\u001b[0m\n\u001b[0;32m   1300\u001b[0m     \u001b[38;5;28;01mif\u001b[39;00m \u001b[38;5;129;01mnot\u001b[39;00m lookup_class:\n\u001b[0;32m   1301\u001b[0m         \u001b[38;5;28;01mreturn\u001b[39;00m\n\u001b[1;32m-> 1303\u001b[0m lookup \u001b[38;5;241m=\u001b[39m \u001b[43mlookup_class\u001b[49m\u001b[43m(\u001b[49m\u001b[43mlhs\u001b[49m\u001b[43m,\u001b[49m\u001b[43m \u001b[49m\u001b[43mrhs\u001b[49m\u001b[43m)\u001b[49m\n\u001b[0;32m   1304\u001b[0m \u001b[38;5;66;03m# Interpret '__exact=None' as the sql 'is NULL'; otherwise, reject all\u001b[39;00m\n\u001b[0;32m   1305\u001b[0m \u001b[38;5;66;03m# uses of None as a query value unless the lookup supports it.\u001b[39;00m\n\u001b[0;32m   1306\u001b[0m \u001b[38;5;28;01mif\u001b[39;00m lookup\u001b[38;5;241m.\u001b[39mrhs \u001b[38;5;129;01mis\u001b[39;00m \u001b[38;5;28;01mNone\u001b[39;00m \u001b[38;5;129;01mand\u001b[39;00m \u001b[38;5;129;01mnot\u001b[39;00m lookup\u001b[38;5;241m.\u001b[39mcan_use_none_as_rhs:\n",
      "File \u001b[1;32mD:\\interview_project\\assiduus_project\\assenv\\lib\\site-packages\\django\\db\\models\\lookups.py:27\u001b[0m, in \u001b[0;36mLookup.__init__\u001b[1;34m(self, lhs, rhs)\u001b[0m\n\u001b[0;32m     25\u001b[0m \u001b[38;5;28;01mdef\u001b[39;00m \u001b[38;5;21m__init__\u001b[39m(\u001b[38;5;28mself\u001b[39m, lhs, rhs):\n\u001b[0;32m     26\u001b[0m     \u001b[38;5;28mself\u001b[39m\u001b[38;5;241m.\u001b[39mlhs, \u001b[38;5;28mself\u001b[39m\u001b[38;5;241m.\u001b[39mrhs \u001b[38;5;241m=\u001b[39m lhs, rhs\n\u001b[1;32m---> 27\u001b[0m     \u001b[38;5;28mself\u001b[39m\u001b[38;5;241m.\u001b[39mrhs \u001b[38;5;241m=\u001b[39m \u001b[38;5;28;43mself\u001b[39;49m\u001b[38;5;241;43m.\u001b[39;49m\u001b[43mget_prep_lookup\u001b[49m\u001b[43m(\u001b[49m\u001b[43m)\u001b[49m\n\u001b[0;32m     28\u001b[0m     \u001b[38;5;28mself\u001b[39m\u001b[38;5;241m.\u001b[39mlhs \u001b[38;5;241m=\u001b[39m \u001b[38;5;28mself\u001b[39m\u001b[38;5;241m.\u001b[39mget_prep_lhs()\n\u001b[0;32m     29\u001b[0m     \u001b[38;5;28;01mif\u001b[39;00m \u001b[38;5;28mhasattr\u001b[39m(\u001b[38;5;28mself\u001b[39m\u001b[38;5;241m.\u001b[39mlhs, \u001b[38;5;124m\"\u001b[39m\u001b[38;5;124mget_bilateral_transforms\u001b[39m\u001b[38;5;124m\"\u001b[39m):\n",
      "File \u001b[1;32mD:\\interview_project\\assiduus_project\\assenv\\lib\\site-packages\\django\\db\\models\\fields\\related_lookups.py:168\u001b[0m, in \u001b[0;36mRelatedLookupMixin.get_prep_lookup\u001b[1;34m(self)\u001b[0m\n\u001b[0;32m    165\u001b[0m         target_field \u001b[38;5;241m=\u001b[39m \u001b[38;5;28mself\u001b[39m\u001b[38;5;241m.\u001b[39mlhs\u001b[38;5;241m.\u001b[39moutput_field\u001b[38;5;241m.\u001b[39mpath_infos[\u001b[38;5;241m-\u001b[39m\u001b[38;5;241m1\u001b[39m]\u001b[38;5;241m.\u001b[39mtarget_fields[\u001b[38;5;241m-\u001b[39m\u001b[38;5;241m1\u001b[39m]\n\u001b[0;32m    166\u001b[0m         \u001b[38;5;28mself\u001b[39m\u001b[38;5;241m.\u001b[39mrhs \u001b[38;5;241m=\u001b[39m target_field\u001b[38;5;241m.\u001b[39mget_prep_value(\u001b[38;5;28mself\u001b[39m\u001b[38;5;241m.\u001b[39mrhs)\n\u001b[1;32m--> 168\u001b[0m \u001b[38;5;28;01mreturn\u001b[39;00m \u001b[38;5;28;43msuper\u001b[39;49m\u001b[43m(\u001b[49m\u001b[43m)\u001b[49m\u001b[38;5;241;43m.\u001b[39;49m\u001b[43mget_prep_lookup\u001b[49m\u001b[43m(\u001b[49m\u001b[43m)\u001b[49m\n",
      "File \u001b[1;32mD:\\interview_project\\assiduus_project\\assenv\\lib\\site-packages\\django\\db\\models\\lookups.py:337\u001b[0m, in \u001b[0;36mExact.get_prep_lookup\u001b[1;34m(self)\u001b[0m\n\u001b[0;32m    335\u001b[0m             \u001b[38;5;28mself\u001b[39m\u001b[38;5;241m.\u001b[39mrhs\u001b[38;5;241m.\u001b[39madd_fields([\u001b[38;5;124m\"\u001b[39m\u001b[38;5;124mpk\u001b[39m\u001b[38;5;124m\"\u001b[39m])\n\u001b[0;32m    336\u001b[0m     \u001b[38;5;28;01melse\u001b[39;00m:\n\u001b[1;32m--> 337\u001b[0m         \u001b[38;5;28;01mraise\u001b[39;00m \u001b[38;5;167;01mValueError\u001b[39;00m(\n\u001b[0;32m    338\u001b[0m             \u001b[38;5;124m\"\u001b[39m\u001b[38;5;124mThe QuerySet value for an exact lookup must be limited to \u001b[39m\u001b[38;5;124m\"\u001b[39m\n\u001b[0;32m    339\u001b[0m             \u001b[38;5;124m\"\u001b[39m\u001b[38;5;124mone result using slicing.\u001b[39m\u001b[38;5;124m\"\u001b[39m\n\u001b[0;32m    340\u001b[0m         )\n\u001b[0;32m    341\u001b[0m \u001b[38;5;28;01mreturn\u001b[39;00m \u001b[38;5;28msuper\u001b[39m()\u001b[38;5;241m.\u001b[39mget_prep_lookup()\n",
      "\u001b[1;31mValueError\u001b[0m: The QuerySet value for an exact lookup must be limited to one result using slicing."
     ]
    }
   ],
   "source": [
    "m = Message.objects.filter(user = U)\n",
    "length = len(m)\n",
    "cal = length - 5\n",
    "if length <= 5:\n",
    "    result = m\n",
    "else:\n",
    "    result = m[cal:]\n",
    "print(result)\n",
    "var1 = result[0].created\n",
    "dt = datetime.utcnow()\n",
    "var2 = dt.replace(tzinfo=timezone.utc)\n",
    "print(var1, var2)\n",
    "count_time = var2 - var1\n",
    "time_in_hour = count_time.seconds / 3600 \n",
    "print(time_in_hour)"
   ]
  },
  {
   "cell_type": "code",
   "execution_count": null,
   "id": "03ff6722",
   "metadata": {},
   "outputs": [],
   "source": [
    "import json\n",
    "m10 = Message.objects.filter(user=U)[:1]\n",
    "m10\n",
    "for ele in m10:\n",
    "    print({\"message\":ele})"
   ]
  },
  {
   "cell_type": "code",
   "execution_count": null,
   "id": "2f6afa5c",
   "metadata": {},
   "outputs": [],
   "source": [
    "if 1 <= time_in_hour:\n",
    "    print(\"insert message\")\n",
    "else:\n",
    "    print(\"your limit end\")"
   ]
  },
  {
   "cell_type": "code",
   "execution_count": null,
   "id": "2c2a1227",
   "metadata": {},
   "outputs": [],
   "source": []
  },
  {
   "cell_type": "code",
   "execution_count": null,
   "id": "9f8c8f5b",
   "metadata": {},
   "outputs": [],
   "source": []
  },
  {
   "cell_type": "code",
   "execution_count": null,
   "id": "8346b023",
   "metadata": {},
   "outputs": [],
   "source": [
    "import datetime\n",
    "\n",
    "x = datetime.datetime.now()\n",
    "\n",
    "print(x)"
   ]
  },
  {
   "cell_type": "code",
   "execution_count": null,
   "id": "4dd7b44d",
   "metadata": {},
   "outputs": [],
   "source": []
  },
  {
   "cell_type": "code",
   "execution_count": 8,
   "id": "5715c236",
   "metadata": {},
   "outputs": [
    {
     "ename": "DoesNotExist",
     "evalue": "User matching query does not exist.",
     "output_type": "error",
     "traceback": [
      "\u001b[1;31m---------------------------------------------------------------------------\u001b[0m",
      "\u001b[1;31mDoesNotExist\u001b[0m                              Traceback (most recent call last)",
      "Cell \u001b[1;32mIn [8], line 2\u001b[0m\n\u001b[0;32m      1\u001b[0m dict1 \u001b[38;5;241m=\u001b[39m {}\n\u001b[1;32m----> 2\u001b[0m U \u001b[38;5;241m=\u001b[39m \u001b[43mUser\u001b[49m\u001b[38;5;241;43m.\u001b[39;49m\u001b[43mobjects\u001b[49m\u001b[38;5;241;43m.\u001b[39;49m\u001b[43mget\u001b[49m\u001b[43m(\u001b[49m\u001b[43memail\u001b[49m\u001b[43m \u001b[49m\u001b[38;5;241;43m=\u001b[39;49m\u001b[43m \u001b[49m\u001b[43memail\u001b[49m\u001b[43m)\u001b[49m\n\u001b[0;32m      3\u001b[0m M \u001b[38;5;241m=\u001b[39m Message\u001b[38;5;241m.\u001b[39mobjects\u001b[38;5;241m.\u001b[39mfilter(user \u001b[38;5;241m=\u001b[39m U)\n\u001b[0;32m      4\u001b[0m \u001b[38;5;28;01mfor\u001b[39;00m ele \u001b[38;5;129;01min\u001b[39;00m U\u001b[38;5;241m.\u001b[39mvalues():\n",
      "File \u001b[1;32mD:\\interview_project\\assiduus_project\\assenv\\lib\\site-packages\\django\\db\\models\\manager.py:85\u001b[0m, in \u001b[0;36mBaseManager._get_queryset_methods.<locals>.create_method.<locals>.manager_method\u001b[1;34m(self, *args, **kwargs)\u001b[0m\n\u001b[0;32m     84\u001b[0m \u001b[38;5;28;01mdef\u001b[39;00m \u001b[38;5;21mmanager_method\u001b[39m(\u001b[38;5;28mself\u001b[39m, \u001b[38;5;241m*\u001b[39margs, \u001b[38;5;241m*\u001b[39m\u001b[38;5;241m*\u001b[39mkwargs):\n\u001b[1;32m---> 85\u001b[0m     \u001b[38;5;28;01mreturn\u001b[39;00m \u001b[38;5;28mgetattr\u001b[39m(\u001b[38;5;28mself\u001b[39m\u001b[38;5;241m.\u001b[39mget_queryset(), name)(\u001b[38;5;241m*\u001b[39margs, \u001b[38;5;241m*\u001b[39m\u001b[38;5;241m*\u001b[39mkwargs)\n",
      "File \u001b[1;32mD:\\interview_project\\assiduus_project\\assenv\\lib\\site-packages\\django\\db\\models\\query.py:650\u001b[0m, in \u001b[0;36mQuerySet.get\u001b[1;34m(self, *args, **kwargs)\u001b[0m\n\u001b[0;32m    648\u001b[0m     \u001b[38;5;28;01mreturn\u001b[39;00m clone\u001b[38;5;241m.\u001b[39m_result_cache[\u001b[38;5;241m0\u001b[39m]\n\u001b[0;32m    649\u001b[0m \u001b[38;5;28;01mif\u001b[39;00m \u001b[38;5;129;01mnot\u001b[39;00m num:\n\u001b[1;32m--> 650\u001b[0m     \u001b[38;5;28;01mraise\u001b[39;00m \u001b[38;5;28mself\u001b[39m\u001b[38;5;241m.\u001b[39mmodel\u001b[38;5;241m.\u001b[39mDoesNotExist(\n\u001b[0;32m    651\u001b[0m         \u001b[38;5;124m\"\u001b[39m\u001b[38;5;132;01m%s\u001b[39;00m\u001b[38;5;124m matching query does not exist.\u001b[39m\u001b[38;5;124m\"\u001b[39m \u001b[38;5;241m%\u001b[39m \u001b[38;5;28mself\u001b[39m\u001b[38;5;241m.\u001b[39mmodel\u001b[38;5;241m.\u001b[39m_meta\u001b[38;5;241m.\u001b[39mobject_name\n\u001b[0;32m    652\u001b[0m     )\n\u001b[0;32m    653\u001b[0m \u001b[38;5;28;01mraise\u001b[39;00m \u001b[38;5;28mself\u001b[39m\u001b[38;5;241m.\u001b[39mmodel\u001b[38;5;241m.\u001b[39mMultipleObjectsReturned(\n\u001b[0;32m    654\u001b[0m     \u001b[38;5;124m\"\u001b[39m\u001b[38;5;124mget() returned more than one \u001b[39m\u001b[38;5;132;01m%s\u001b[39;00m\u001b[38;5;124m -- it returned \u001b[39m\u001b[38;5;132;01m%s\u001b[39;00m\u001b[38;5;124m!\u001b[39m\u001b[38;5;124m\"\u001b[39m\n\u001b[0;32m    655\u001b[0m     \u001b[38;5;241m%\u001b[39m (\n\u001b[1;32m   (...)\u001b[0m\n\u001b[0;32m    658\u001b[0m     )\n\u001b[0;32m    659\u001b[0m )\n",
      "\u001b[1;31mDoesNotExist\u001b[0m: User matching query does not exist."
     ]
    }
   ],
   "source": [
    "dict1 = {}\n",
    "U = User.objects.get(email = email)\n",
    "M = Message.objects.filter(user = U)\n",
    "for ele in U.values():\n",
    "    print(ele)\n",
    "    \n",
    "    "
   ]
  },
  {
   "cell_type": "code",
   "execution_count": null,
   "id": "d55161a2",
   "metadata": {},
   "outputs": [],
   "source": []
  }
 ],
 "metadata": {
  "kernelspec": {
   "display_name": "Python 3 (ipykernel)",
   "language": "python",
   "name": "python3"
  },
  "language_info": {
   "codemirror_mode": {
    "name": "ipython",
    "version": 3
   },
   "file_extension": ".py",
   "mimetype": "text/x-python",
   "name": "python",
   "nbconvert_exporter": "python",
   "pygments_lexer": "ipython3",
   "version": "3.10.7"
  }
 },
 "nbformat": 4,
 "nbformat_minor": 5
}
