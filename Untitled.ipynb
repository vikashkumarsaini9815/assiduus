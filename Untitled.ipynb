{
 "cells": [
  {
   "cell_type": "code",
   "execution_count": 1,
   "id": "58377ff3",
   "metadata": {},
   "outputs": [],
   "source": [
    "import os, sys\n",
    "os.environ.setdefault('DJANGO_SETTINGS_MODULE', 'ass_project.settings')\n",
    "os.environ[\"DJANGO_ALLOW_ASYNC_UNSAFE\"] = \"true\"\n",
    "import django\n",
    "django.setup()"
   ]
  },
  {
   "cell_type": "code",
   "execution_count": null,
   "id": "8a8ad5c4",
   "metadata": {},
   "outputs": [],
   "source": []
  },
  {
   "cell_type": "code",
   "execution_count": 2,
   "id": "17e70805",
   "metadata": {},
   "outputs": [],
   "source": [
    "from ass_app.models import *\n",
    "from rest_framework.views import APIView\n",
    "import pprint as pp\n",
    "from datetime import datetime, timezone\n",
    "#import json\n",
    "from ass_app.serializers import UserSerializer,MessageSerializer"
   ]
  },
  {
   "cell_type": "code",
   "execution_count": 3,
   "id": "f2a32301",
   "metadata": {},
   "outputs": [],
   "source": [
    "username = \"Rahul\"\n",
    "email = \"jk123@gmail.com\"\n",
    "message =\"Hi i am Rhul Kumar \""
   ]
  },
  {
   "cell_type": "code",
   "execution_count": 4,
   "id": "eedce985",
   "metadata": {},
   "outputs": [],
   "source": [
    "request={\"username\":\"Rahul\",\"email\":\"jk123@gmail.com\",\"message\":\"Hi i am Rhul Kumar \"}"
   ]
  },
  {
   "cell_type": "code",
   "execution_count": 5,
   "id": "91b34799",
   "metadata": {},
   "outputs": [
    {
     "name": "stdout",
     "output_type": "stream",
     "text": [
      "jk\n"
     ]
    }
   ],
   "source": [
    "U = User.objects.get(email = email)\n",
    "print(U)\n"
   ]
  },
  {
   "cell_type": "code",
   "execution_count": 6,
   "id": "92a547e1",
   "metadata": {},
   "outputs": [
    {
     "name": "stdout",
     "output_type": "stream",
     "text": [
      "<QuerySet [<Message: Hi i am jk kumar >, <Message: Hi i am jk kumar >, <Message: Hi i am jk kumar >]>\n",
      "2022-11-10 10:54:08.286215+00:00 2022-11-10 12:47:55.964120+00:00\n",
      "1.896388888888889\n"
     ]
    }
   ],
   "source": [
    "m = Message.objects.filter(user = U)\n",
    "length = len(m)\n",
    "cal = length - 5\n",
    "if length <= 5:\n",
    "    result = m\n",
    "else:\n",
    "    result = m[cal:]\n",
    "print(result)\n",
    "var1 = result[0].created\n",
    "dt = datetime.utcnow()\n",
    "var2 = dt.replace(tzinfo=timezone.utc)\n",
    "print(var1, var2)\n",
    "count_time = var2 - var1\n",
    "time_in_hour = count_time.seconds / 3600 \n",
    "print(time_in_hour)"
   ]
  },
  {
   "cell_type": "code",
   "execution_count": null,
   "id": "03ff6722",
   "metadata": {},
   "outputs": [],
   "source": [
    "import json\n",
    "m10 = Message.objects.filter(user=U)[:1]\n",
    "m10\n",
    "for ele in m10:\n",
    "    print({\"message\":ele})"
   ]
  },
  {
   "cell_type": "code",
   "execution_count": null,
   "id": "2f6afa5c",
   "metadata": {},
   "outputs": [],
   "source": [
    "if 1 <= time_in_hour:\n",
    "    print(\"insert message\")\n",
    "else:\n",
    "    print(\"your limit end\")"
   ]
  },
  {
   "cell_type": "code",
   "execution_count": null,
   "id": "2c2a1227",
   "metadata": {},
   "outputs": [],
   "source": []
  },
  {
   "cell_type": "code",
   "execution_count": null,
   "id": "9f8c8f5b",
   "metadata": {},
   "outputs": [],
   "source": []
  },
  {
   "cell_type": "code",
   "execution_count": null,
   "id": "8346b023",
   "metadata": {},
   "outputs": [],
   "source": [
    "import datetime\n",
    "\n",
    "x = datetime.datetime.now()\n",
    "\n",
    "print(x)"
   ]
  },
  {
   "cell_type": "code",
   "execution_count": null,
   "id": "4dd7b44d",
   "metadata": {},
   "outputs": [],
   "source": [
    "m"
   ]
  },
  {
   "cell_type": "code",
   "execution_count": null,
   "id": "cc898b32",
   "metadata": {},
   "outputs": [],
   "source": []
  },
  {
   "cell_type": "code",
   "execution_count": null,
   "id": "1ff6efd2",
   "metadata": {},
   "outputs": [],
   "source": [
    "final_result = {\n",
    "\"id\":m.id ,\n",
    "\"message\": m.message,\n",
    "\"created_at\": m.message,\n",
    "\"updated_at\": m.updated,\n",
    "\"created_by\": {\n",
    "\"id\": U.id,\n",
    "\"username\": U.username,\n",
    "\"email\": U.email,\n",
    "\n",
    "}\n",
    "}"
   ]
  },
  {
   "cell_type": "code",
   "execution_count": null,
   "id": "087cfd63",
   "metadata": {},
   "outputs": [],
   "source": []
  },
  {
   "cell_type": "code",
   "execution_count": null,
   "id": "24deed72",
   "metadata": {},
   "outputs": [],
   "source": []
  },
  {
   "cell_type": "code",
   "execution_count": null,
   "id": "dd26eae4",
   "metadata": {},
   "outputs": [],
   "source": []
  },
  {
   "cell_type": "code",
   "execution_count": null,
   "id": "5715c236",
   "metadata": {},
   "outputs": [],
   "source": [
    "dict1 = {}\n",
    "U = User.objects.get(email = email)\n",
    "M = Message.objects.filter(user = U)\n",
    "for ele in m:\n",
    "    print()\n",
    "    \n",
    "    "
   ]
  },
  {
   "cell_type": "code",
   "execution_count": null,
   "id": "d55161a2",
   "metadata": {},
   "outputs": [],
   "source": []
  },
  {
   "cell_type": "code",
   "execution_count": null,
   "id": "44b974f5",
   "metadata": {},
   "outputs": [],
   "source": []
  },
  {
   "cell_type": "code",
   "execution_count": 45,
   "id": "75b6ae76",
   "metadata": {},
   "outputs": [
    {
     "name": "stdout",
     "output_type": "stream",
     "text": [
      "<QuerySet []>\n",
      "{}\n"
     ]
    }
   ],
   "source": [
    "U1 = User.objects.filter(email = email)[:1]\n",
    "print(U1.values())\n",
    "m1 = Message.objects.filter(user=U1)\n",
    "dict1 = {}\n",
    "for user in U1.values():\n",
    "    print(user)\n",
    "    Id = user[\"id\"]\n",
    "    username = user[\"username\"]\n",
    "    email = user[\"username\"]\n",
    "    dict1={\"id\":Id, \"username\":username, \"email\":email}\n",
    "print(dict1)\n"
   ]
  },
  {
   "cell_type": "code",
   "execution_count": null,
   "id": "ee2cc87f",
   "metadata": {},
   "outputs": [],
   "source": []
  },
  {
   "cell_type": "code",
   "execution_count": null,
   "id": "71a2c258",
   "metadata": {},
   "outputs": [],
   "source": []
  }
 ],
 "metadata": {
  "kernelspec": {
   "display_name": "Python 3 (ipykernel)",
   "language": "python",
   "name": "python3"
  },
  "language_info": {
   "codemirror_mode": {
    "name": "ipython",
    "version": 3
   },
   "file_extension": ".py",
   "mimetype": "text/x-python",
   "name": "python",
   "nbconvert_exporter": "python",
   "pygments_lexer": "ipython3",
   "version": "3.10.7"
  }
 },
 "nbformat": 4,
 "nbformat_minor": 5
}
